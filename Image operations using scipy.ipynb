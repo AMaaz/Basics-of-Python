{
 "cells": [
  {
   "cell_type": "code",
   "execution_count": 299,
   "metadata": {
    "collapsed": false
   },
   "outputs": [
    {
     "name": "stdout",
     "output_type": "stream",
     "text": [
      "[[[133 122 105]\n",
      "  [148 137 119]\n",
      "  [169 155 135]\n",
      "  ..., \n",
      "  [ 76  63  38]\n",
      "  [ 72  58  35]\n",
      "  [ 63  49  27]]\n",
      "\n",
      " [[136 125 108]\n",
      "  [148 136 117]\n",
      "  [165 152 131]\n",
      "  ..., \n",
      "  [ 72  59  34]\n",
      "  [ 68  54  31]\n",
      "  [ 61  48  26]]\n",
      "\n",
      " [[139 127 108]\n",
      "  [145 132 112]\n",
      "  [160 146 124]\n",
      "  ..., \n",
      "  [ 66  55  29]\n",
      "  [ 63  52  27]\n",
      "  [ 60  50  24]]\n",
      "\n",
      " ..., \n",
      " [[119 142  70]\n",
      "  [110 133  63]\n",
      "  [105 129  60]\n",
      "  ..., \n",
      "  [114  97  70]\n",
      "  [110  94  68]\n",
      "  [111  95  67]]\n",
      "\n",
      " [[111 133  63]\n",
      "  [110 132  63]\n",
      "  [108 130  63]\n",
      "  ..., \n",
      "  [111  92  68]\n",
      "  [106  88  64]\n",
      "  [102  86  60]]\n",
      "\n",
      " [[119 138  71]\n",
      "  [116 136  68]\n",
      "  [112 133  66]\n",
      "  ..., \n",
      "  [ 96  77  55]\n",
      "  [ 94  75  53]\n",
      "  [ 90  72  49]]]\n"
     ]
    }
   ],
   "source": [
    "from scipy.misc import imread, imsave, imresize\n",
    "\n",
    "# Read an JPEG image into a numpy array\n",
    "img = imread('C:\\Program Files\\Anaconda3/cat.jpg')\n",
    "#print(img,img.dtype, img.shape)  # Prints \"uint8 (400, 248, 3)\"\n",
    "\n",
    "img_tinted = img * [1, 0.95, 0.9]\n",
    "#print(img_tinted)\n",
    "\n",
    "img_tinted = imresize(img_tinted, (300, 300))\n",
    "print(img_tinted)\n",
    "imsave('C:\\Program Files\\Anaconda3/catttt_tinted.jpg', img_tinted)"
   ]
  },
  {
   "cell_type": "code",
   "execution_count": null,
   "metadata": {
    "collapsed": true
   },
   "outputs": [],
   "source": []
  },
  {
   "cell_type": "code",
   "execution_count": null,
   "metadata": {
    "collapsed": true
   },
   "outputs": [],
   "source": []
  }
 ],
 "metadata": {
  "kernelspec": {
   "display_name": "Python [conda root]",
   "language": "python",
   "name": "conda-root-py"
  },
  "language_info": {
   "codemirror_mode": {
    "name": "ipython",
    "version": 3
   },
   "file_extension": ".py",
   "mimetype": "text/x-python",
   "name": "python",
   "nbconvert_exporter": "python",
   "pygments_lexer": "ipython3",
   "version": "3.5.2"
  }
 },
 "nbformat": 4,
 "nbformat_minor": 1
}
