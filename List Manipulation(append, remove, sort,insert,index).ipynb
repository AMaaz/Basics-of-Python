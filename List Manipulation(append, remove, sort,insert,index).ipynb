{
 "cells": [
  {
   "cell_type": "code",
   "execution_count": 2,
   "metadata": {
    "collapsed": false
   },
   "outputs": [
    {
     "name": "stdout",
     "output_type": "stream",
     "text": [
      "[1, 6, 3, 2, 6, 1, 2, 6, 7, 55]\n"
     ]
    }
   ],
   "source": [
    "# first we need an example list:\n",
    "x = [1,6,3,2,6,1,2,6,7]\n",
    "# lets add something.\n",
    "# we can do .append, which will add something to the end of the list, like:\n",
    "x.append(55)\n",
    "print(x)"
   ]
  },
  {
   "cell_type": "code",
   "execution_count": 3,
   "metadata": {
    "collapsed": false
   },
   "outputs": [
    {
     "name": "stdout",
     "output_type": "stream",
     "text": [
      "[1, 6, 33, 3, 2, 6, 1, 2, 6, 7, 55]\n"
     ]
    }
   ],
   "source": [
    "x.insert(2,33) #[insert second position element 33]\n",
    "print(x)"
   ]
  },
  {
   "cell_type": "code",
   "execution_count": 4,
   "metadata": {
    "collapsed": false
   },
   "outputs": [
    {
     "name": "stdout",
     "output_type": "stream",
     "text": [
      "[1, 33, 3, 2, 6, 1, 2, 6, 7, 55]\n"
     ]
    }
   ],
   "source": [
    "x.remove(6) #[Remove first element 6]\n",
    "print(x)"
   ]
  },
  {
   "cell_type": "code",
   "execution_count": 5,
   "metadata": {
    "collapsed": false
   },
   "outputs": [
    {
     "name": "stdout",
     "output_type": "stream",
     "text": [
      "1\n"
     ]
    }
   ],
   "source": [
    "print(x[5]) #[Index of element position 5]"
   ]
  },
  {
   "cell_type": "code",
   "execution_count": 6,
   "metadata": {
    "collapsed": false
   },
   "outputs": [
    {
     "name": "stdout",
     "output_type": "stream",
     "text": [
      "0\n"
     ]
    }
   ],
   "source": [
    "print(x.index(1))"
   ]
  },
  {
   "cell_type": "code",
   "execution_count": 7,
   "metadata": {
    "collapsed": false
   },
   "outputs": [
    {
     "name": "stdout",
     "output_type": "stream",
     "text": [
      "2\n"
     ]
    }
   ],
   "source": [
    "print(x.count(1)) #[How many 1 in the list elements]"
   ]
  },
  {
   "cell_type": "code",
   "execution_count": 8,
   "metadata": {
    "collapsed": false
   },
   "outputs": [
    {
     "name": "stdout",
     "output_type": "stream",
     "text": [
      "[1, 1, 2, 2, 3, 6, 6, 7, 33, 55]\n"
     ]
    }
   ],
   "source": [
    "x.sort() \n",
    "print(x)"
   ]
  },
  {
   "cell_type": "code",
   "execution_count": 14,
   "metadata": {
    "collapsed": false
   },
   "outputs": [
    {
     "name": "stdout",
     "output_type": "stream",
     "text": [
      "['Alice', 'Bob', 'Dan', 'Jack', 'Jan', 'Jon']\n",
      "['Jon', 'Jan', 'Jack', 'Dan', 'Bob', 'Alice']\n",
      "['Alice', 'Bob', 'Dan', 'Jack', 'Jan', 'Jon']\n"
     ]
    }
   ],
   "source": [
    "y = ['Jan','Dan','Bob','Alice','Jon','Jack']\n",
    "y.sort()\n",
    "print(y)\n",
    "y.reverse()\n",
    "print(y)\n",
    "print(y[::-1]) #[ This is the alternative of reverse]"
   ]
  },
  {
   "cell_type": "code",
   "execution_count": null,
   "metadata": {
    "collapsed": true
   },
   "outputs": [],
   "source": []
  }
 ],
 "metadata": {
  "anaconda-cloud": {},
  "kernelspec": {
   "display_name": "Python [conda root]",
   "language": "python",
   "name": "conda-root-py"
  },
  "language_info": {
   "codemirror_mode": {
    "name": "ipython",
    "version": 3
   },
   "file_extension": ".py",
   "mimetype": "text/x-python",
   "name": "python",
   "nbconvert_exporter": "python",
   "pygments_lexer": "ipython3",
   "version": "3.5.2"
  }
 },
 "nbformat": 4,
 "nbformat_minor": 1
}
