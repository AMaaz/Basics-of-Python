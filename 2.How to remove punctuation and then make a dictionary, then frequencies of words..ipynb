{
 "cells": [
  {
   "cell_type": "code",
   "execution_count": 4,
   "metadata": {
    "collapsed": false
   },
   "outputs": [
    {
     "name": "stdout",
     "output_type": "stream",
     "text": [
      "Hello I am learning python and I really want to learn it in few days and then master it\n"
     ]
    }
   ],
   "source": [
    "punctuations = '''!()-[]{};:'\"\\,<>./?@#$%^&*_~'''\n",
    "no_punc=\"\"\n",
    "a = \"Hello!!!, I am learning python and I really want to learn it in few days and then master it.\"\n",
    "for word in a:\n",
    "    if word not in punctuations:\n",
    "        no_punc=no_punc+word\n",
    "print(no_punc)"
   ]
  },
  {
   "cell_type": "code",
   "execution_count": 5,
   "metadata": {
    "collapsed": false
   },
   "outputs": [
    {
     "name": "stdout",
     "output_type": "stream",
     "text": [
      "['hello', 'i', 'am', 'learning', 'python', 'and', 'i', 'really', 'want', 'to', 'learn', 'it', 'in', 'few', 'days', 'and', 'then', 'master', 'it']\n"
     ]
    }
   ],
   "source": [
    "b=no_punc.lower().split()\n",
    "print(b)"
   ]
  },
  {
   "cell_type": "code",
   "execution_count": 7,
   "metadata": {
    "collapsed": false
   },
   "outputs": [
    {
     "name": "stdout",
     "output_type": "stream",
     "text": [
      "{'am': 1, 'python': 1, 'learn': 1, 'learning': 1, 'and': 2, 'it': 2, 'in': 1, 'to': 1, 'then': 1, 'i': 2, 'master': 1, 'want': 1, 'hello': 1, 'days': 1, 'really': 1, 'few': 1}\n"
     ]
    }
   ],
   "source": [
    "dictionary=dict()\n",
    "for words in b:\n",
    "    if words in dictionary.keys():\n",
    "        dictionary[words]+=1\n",
    "    else:\n",
    "        dictionary[words]=1\n",
    "print(dictionary)"
   ]
  },
  {
   "cell_type": "code",
   "execution_count": null,
   "metadata": {
    "collapsed": true
   },
   "outputs": [],
   "source": []
  }
 ],
 "metadata": {
  "anaconda-cloud": {},
  "kernelspec": {
   "display_name": "Python [default]",
   "language": "python",
   "name": "python3"
  },
  "language_info": {
   "codemirror_mode": {
    "name": "ipython",
    "version": 3
   },
   "file_extension": ".py",
   "mimetype": "text/x-python",
   "name": "python",
   "nbconvert_exporter": "python",
   "pygments_lexer": "ipython3",
   "version": "3.5.2"
  }
 },
 "nbformat": 4,
 "nbformat_minor": 1
}
