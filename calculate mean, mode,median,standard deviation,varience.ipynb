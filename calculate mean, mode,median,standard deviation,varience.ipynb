{
 "cells": [
  {
   "cell_type": "code",
   "execution_count": 18,
   "metadata": {
    "collapsed": false
   },
   "outputs": [
    {
     "name": "stdout",
     "output_type": "stream",
     "text": [
      "13.5\n"
     ]
    }
   ],
   "source": [
    "# Mean\n",
    "import statistics\n",
    "example=[1,2,3,4,5,6,78,9]\n",
    "result=statistics.mean(example)\n",
    "print(result)"
   ]
  },
  {
   "cell_type": "code",
   "execution_count": 27,
   "metadata": {
    "collapsed": false
   },
   "outputs": [
    {
     "name": "stdout",
     "output_type": "stream",
     "text": [
      "6\n"
     ]
    }
   ],
   "source": [
    "#Mode\n",
    "example=[1,2,3,4,5,6,7,8,9,5,6,6,7]\n",
    "result=statistics.mode(example)\n",
    "print(result)"
   ]
  },
  {
   "cell_type": "code",
   "execution_count": 28,
   "metadata": {
    "collapsed": false
   },
   "outputs": [
    {
     "name": "stdout",
     "output_type": "stream",
     "text": [
      "6\n"
     ]
    }
   ],
   "source": [
    "#Median\n",
    "example=[1,2,3,4,5,6,7,8,9,5,6,6,7]\n",
    "result=statistics.median(example)\n",
    "print(result)"
   ]
  },
  {
   "cell_type": "code",
   "execution_count": 30,
   "metadata": {
    "collapsed": false
   },
   "outputs": [
    {
     "name": "stdout",
     "output_type": "stream",
     "text": [
      "2.323238235187235\n"
     ]
    }
   ],
   "source": [
    "#Standard deviation\n",
    "example=[1,2,3,4,5,6,7,8,9,5,6,6,7]\n",
    "result=statistics.stdev(example)\n",
    "print(result)"
   ]
  },
  {
   "cell_type": "code",
   "execution_count": 33,
   "metadata": {
    "collapsed": false
   },
   "outputs": [
    {
     "name": "stdout",
     "output_type": "stream",
     "text": [
      "5.397435897435898\n"
     ]
    }
   ],
   "source": [
    "#Variance\n",
    "example=[1,2,3,4,5,6,7,8,9,5,6,6,7]\n",
    "result=statistics.variance(example)\n",
    "print(result)"
   ]
  },
  {
   "cell_type": "code",
   "execution_count": 36,
   "metadata": {
    "collapsed": false
   },
   "outputs": [
    {
     "name": "stdout",
     "output_type": "stream",
     "text": [
      "5.397435897435898\n"
     ]
    }
   ],
   "source": [
    "#Different ways of importing\n",
    "#Variance\n",
    "from statistics import* #[ import* means import everything] \n",
    "\n",
    "example=[1,2,3,4,5,6,7,8,9,5,6,6,7]\n",
    "result=variance(example)\n",
    "print(result)"
   ]
  },
  {
   "cell_type": "code",
   "execution_count": 37,
   "metadata": {
    "collapsed": false
   },
   "outputs": [
    {
     "name": "stdout",
     "output_type": "stream",
     "text": [
      "5.397435897435898\n"
     ]
    }
   ],
   "source": [
    "#Variance\n",
    "from statistics import variance \n",
    "\n",
    "example=[1,2,3,4,5,6,7,8,9,5,6,6,7]\n",
    "result=variance(example)\n",
    "print(result)"
   ]
  }
 ],
 "metadata": {
  "anaconda-cloud": {},
  "kernelspec": {
   "display_name": "Python [default]",
   "language": "python",
   "name": "python3"
  },
  "language_info": {
   "codemirror_mode": {
    "name": "ipython",
    "version": 3
   },
   "file_extension": ".py",
   "mimetype": "text/x-python",
   "name": "python",
   "nbconvert_exporter": "python",
   "pygments_lexer": "ipython3",
   "version": "3.5.2"
  }
 },
 "nbformat": 4,
 "nbformat_minor": 1
}
