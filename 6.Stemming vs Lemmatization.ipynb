{
 "cells": [
  {
   "cell_type": "code",
   "execution_count": 9,
   "metadata": {
    "collapsed": false
   },
   "outputs": [
    {
     "name": "stdout",
     "output_type": "stream",
     "text": [
      "['i', 'was', 'riding', 'a', 'car.', 'i', 'was', 'taking', 'a', 'ride', 'in', 'the', 'car.']\n"
     ]
    }
   ],
   "source": [
    "exmp='I was riding a car. I was taking a ride in the car.'\n",
    "Token_sentence=exmp.lower().split()\n",
    "print(Token_sentence)"
   ]
  },
  {
   "cell_type": "code",
   "execution_count": 30,
   "metadata": {
    "collapsed": false
   },
   "outputs": [
    {
     "name": "stdout",
     "output_type": "stream",
     "text": [
      "I was riding a car. I was taking a ride in the car.\n",
      "i wa ride a car. i wa take a ride in the car. "
     ]
    }
   ],
   "source": [
    "from nltk.stem import PorterStemmer\n",
    "print(exmp)\n",
    "ps=PorterStemmer()\n",
    "for words in Token_sentence:\n",
    "     print(ps.stem(words), end= ' ')"
   ]
  },
  {
   "cell_type": "code",
   "execution_count": 26,
   "metadata": {
    "collapsed": false
   },
   "outputs": [
    {
     "name": "stdout",
     "output_type": "stream",
     "text": [
      "Good\n",
      "Gas\n",
      "I was riding a car. I was taking a ride in the car.\n",
      "I was riding a car. I was taking a ride in the car.\n"
     ]
    }
   ],
   "source": [
    "# Lemmatizing is better than stemming\n",
    "from nltk.stem import WordNetLemmatizer\n",
    "lemmatizer = WordNetLemmatizer()\n",
    "print(lemmatizer.lemmatize(\"Good\"))\n",
    "print(lemmatizer.lemmatize(\"Gas\"))\n",
    "print(exmp)\n",
    "print(lemmatizer.lemmatize(exmp))"
   ]
  },
  {
   "cell_type": "code",
   "execution_count": null,
   "metadata": {
    "collapsed": true
   },
   "outputs": [],
   "source": []
  }
 ],
 "metadata": {
  "anaconda-cloud": {},
  "kernelspec": {
   "display_name": "Python [default]",
   "language": "python",
   "name": "python3"
  },
  "language_info": {
   "codemirror_mode": {
    "name": "ipython",
    "version": 3
   },
   "file_extension": ".py",
   "mimetype": "text/x-python",
   "name": "python",
   "nbconvert_exporter": "python",
   "pygments_lexer": "ipython3",
   "version": "3.5.2"
  }
 },
 "nbformat": 4,
 "nbformat_minor": 1
}
