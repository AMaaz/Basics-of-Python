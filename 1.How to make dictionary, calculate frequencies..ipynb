{
 "cells": [
  {
   "cell_type": "code",
   "execution_count": 2,
   "metadata": {
    "collapsed": false
   },
   "outputs": [
    {
     "name": "stdout",
     "output_type": "stream",
     "text": [
      "['moscow', 'is', 'very', 'beautiful', 'city', 'in', 'the', 'word.', 'it', 'is', 'very', 'nice', 'city.', 'i', 'am', 'writing', 'my', 'masters', 'thesis.', 'i', 'have', 'very', 'short', 'time', 'to', 'complete', 'my', 'thesis.']\n"
     ]
    }
   ],
   "source": [
    "a=('Moscow is very beautiful city in the word. It is very nice city. I am writing my masters thesis. I have very short time to complete my thesis.')\n",
    "b=a.lower().split(\" \")\n",
    "print(b)"
   ]
  },
  {
   "cell_type": "code",
   "execution_count": 89,
   "metadata": {
    "collapsed": false
   },
   "outputs": [
    {
     "name": "stdout",
     "output_type": "stream",
     "text": [
      "{'my': 2, 'am': 1, 'masters': 1, 'thesis.': 2, 'complete': 1, 'writing': 1, 'time': 1, 'nice': 1, 'very': 3, 'short': 1, 'i': 2, 'have': 1, 'in': 1, 'city.': 1, 'word.': 1, 'to': 1, 'is': 2, 'beautiful': 1, 'city': 1, 'the': 1, 'it': 1, 'moscow': 1}\n"
     ]
    }
   ],
   "source": [
    "dictionary=dict()\n",
    "for words in b:\n",
    "    if words in dictionary.keys():\n",
    "        dictionary[words] +=1 \n",
    "    else:\n",
    "        dictionary[words]=1\n",
    "print(dictionary)"
   ]
  },
  {
   "cell_type": "code",
   "execution_count": 90,
   "metadata": {
    "collapsed": false
   },
   "outputs": [
    {
     "name": "stdout",
     "output_type": "stream",
     "text": [
      "['i', 'am', 'learning', 'python', 'and', 'i', 'really', 'need', 'to', 'do', 'some', 'practice', 'in', 'order', 'to', 'get', 'good', 'skills', 'in', 'python', 'language.']\n"
     ]
    }
   ],
   "source": [
    "c=('I am learning python and I really need to do some practice in order to get good skills in python language.')\n",
    "d=c.lower().split(\" \")\n",
    "print(d)"
   ]
  },
  {
   "cell_type": "code",
   "execution_count": 91,
   "metadata": {
    "collapsed": false
   },
   "outputs": [
    {
     "name": "stdout",
     "output_type": "stream",
     "text": [
      "{'some': 1, 'really': 1, 'good': 1, 'order': 1, 'am': 1, 'skills': 1, 'language.': 1, 'do': 1, 'in': 2, 'to': 2, 'learning': 1, 'need': 1, 'and': 1, 'practice': 1, 'python': 2, 'get': 1, 'i': 2}\n"
     ]
    }
   ],
   "source": [
    "duct=dict()\n",
    "for words in d:\n",
    "    if words in duct.keys():\n",
    "        duct[words]+=1\n",
    "    else:\n",
    "        duct[words]=1\n",
    "print(duct)"
   ]
  },
  {
   "cell_type": "code",
   "execution_count": null,
   "metadata": {
    "collapsed": true
   },
   "outputs": [],
   "source": []
  }
 ],
 "metadata": {
  "anaconda-cloud": {},
  "kernelspec": {
   "display_name": "Python [default]",
   "language": "python",
   "name": "python3"
  },
  "language_info": {
   "codemirror_mode": {
    "name": "ipython",
    "version": 3
   },
   "file_extension": ".py",
   "mimetype": "text/x-python",
   "name": "python",
   "nbconvert_exporter": "python",
   "pygments_lexer": "ipython3",
   "version": "3.5.2"
  }
 },
 "nbformat": 4,
 "nbformat_minor": 1
}
