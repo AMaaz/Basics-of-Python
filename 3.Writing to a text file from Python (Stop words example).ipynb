{
 "cells": [
  {
   "cell_type": "code",
   "execution_count": 83,
   "metadata": {
    "collapsed": false
   },
   "outputs": [
    {
     "name": "stdout",
     "output_type": "stream",
     "text": [
      "{'just', 'hers', 'it', 'with', 'any', 'will', 'than', 's', 'its', 'such', 'had', 'before', 'most', 'she', 'him', 'yourself', 'been', 'wasn', 'if', 'other', 'as', 'own', 'wouldn', 'doing', 'd', 'same', 'whom', 'each', 'shouldn', 'then', 'my', 'shan', 'these', 'or', 'why', 'into', 'here', 'being', 'having', 'off', 're', 'that', 'was', 'against', 'ma', 'what', 'has', 'needn', 'those', 'above', 'yours', 'about', 've', 'no', 'few', 'now', 'have', 'for', 'did', 'himself', 'how', 'during', 'don', 'does', 'mightn', 'the', 'doesn', 'not', 'who', 'isn', 'mustn', 'i', 'an', 'hadn', 'at', 'll', 'on', 'which', 'their', 'them', 'this', 'ourselves', 'didn', 'once', 'can', 'm', 'y', 'through', 'out', 'so', 'our', 'again', 'too', 'they', 'over', 'when', 'where', 'me', 'only', 'o', 'theirs', 'myself', 'are', 't', 'were', 'hasn', 'haven', 'but', 'do', 'of', 'won', 'below', 'in', 'ain', 'after', 'herself', 'both', 'her', 'am', 'you', 'your', 'down', 'between', 'yourselves', 'up', 'until', 'from', 'further', 'a', 'and', 'by', 'nor', 'while', 'itself', 'because', 'couldn', 'should', 'very', 'ours', 'some', 'there', 'all', 'his', 'themselves', 'weren', 'aren', 'to', 'we', 'is', 'he', 'be', 'under', 'more'}\n"
     ]
    }
   ],
   "source": [
    "#import stopwords from nltk\n",
    "import nltk\n",
    "from nltk.corpus import stopwords\n",
    "stops = set(stopwords.words('english'))\n",
    "print(stops)"
   ]
  },
  {
   "cell_type": "code",
   "execution_count": 97,
   "metadata": {
    "collapsed": false
   },
   "outputs": [
    {
     "name": "stdout",
     "output_type": "stream",
     "text": [
      "just hers it with any will than s its such had before most she him yourself been wasn if other as own wouldn doing d same whom each shouldn then my shan these or why into here being having off re that was against ma what has needn those above yours about ve no few now have for did himself how during don does mightn the doesn not who isn mustn i an hadn at ll on which their them this ourselves didn once can m y through out so our again too they over when where me only o theirs myself are t were hasn haven but do of won below in ain after herself both her am you your down between yourselves up until from further a and by nor while itself because couldn should very ours some there all his themselves weren aren to we is he be under more\n"
     ]
    }
   ],
   "source": [
    "#Convert list into string\n",
    "Stops=' '.join(stops)\n",
    "print(Stops)"
   ]
  },
  {
   "cell_type": "code",
   "execution_count": 100,
   "metadata": {
    "collapsed": false
   },
   "outputs": [
    {
     "name": "stdout",
     "output_type": "stream",
     "text": [
      "just \n",
      " hers \n",
      " it \n",
      " with \n",
      " any \n",
      " will \n",
      " than \n",
      " s \n",
      " its \n",
      " such \n",
      " had \n",
      " before \n",
      " most \n",
      " she \n",
      " him \n",
      " yourself \n",
      " been \n",
      " wasn \n",
      " if \n",
      " other \n",
      " as \n",
      " own \n",
      " wouldn \n",
      " doing \n",
      " d \n",
      " same \n",
      " whom \n",
      " each \n",
      " shouldn \n",
      " then \n",
      " my \n",
      " shan \n",
      " these \n",
      " or \n",
      " why \n",
      " into \n",
      " here \n",
      " being \n",
      " having \n",
      " off \n",
      " re \n",
      " that \n",
      " was \n",
      " against \n",
      " ma \n",
      " what \n",
      " has \n",
      " needn \n",
      " those \n",
      " above \n",
      " yours \n",
      " about \n",
      " ve \n",
      " no \n",
      " few \n",
      " now \n",
      " have \n",
      " for \n",
      " did \n",
      " himself \n",
      " how \n",
      " during \n",
      " don \n",
      " does \n",
      " mightn \n",
      " the \n",
      " doesn \n",
      " not \n",
      " who \n",
      " isn \n",
      " mustn \n",
      " i \n",
      " an \n",
      " hadn \n",
      " at \n",
      " ll \n",
      " on \n",
      " which \n",
      " their \n",
      " them \n",
      " this \n",
      " ourselves \n",
      " didn \n",
      " once \n",
      " can \n",
      " m \n",
      " y \n",
      " through \n",
      " out \n",
      " so \n",
      " our \n",
      " again \n",
      " too \n",
      " they \n",
      " over \n",
      " when \n",
      " where \n",
      " me \n",
      " only \n",
      " o \n",
      " theirs \n",
      " myself \n",
      " are \n",
      " t \n",
      " were \n",
      " hasn \n",
      " haven \n",
      " but \n",
      " do \n",
      " of \n",
      " won \n",
      " below \n",
      " in \n",
      " ain \n",
      " after \n",
      " herself \n",
      " both \n",
      " her \n",
      " am \n",
      " you \n",
      " your \n",
      " down \n",
      " between \n",
      " yourselves \n",
      " up \n",
      " until \n",
      " from \n",
      " further \n",
      " a \n",
      " and \n",
      " by \n",
      " nor \n",
      " while \n",
      " itself \n",
      " because \n",
      " couldn \n",
      " should \n",
      " very \n",
      " ours \n",
      " some \n",
      " there \n",
      " all \n",
      " his \n",
      " themselves \n",
      " weren \n",
      " aren \n",
      " to \n",
      " we \n",
      " is \n",
      " he \n",
      " be \n",
      " under \n",
      " more\n"
     ]
    }
   ],
   "source": [
    "#Convert list into string\n",
    "Stop_words=' \\n '.join(stops)\n",
    "print(Stop_words)"
   ]
  },
  {
   "cell_type": "code",
   "execution_count": 103,
   "metadata": {
    "collapsed": true
   },
   "outputs": [],
   "source": [
    "# notifies Python that you are opening this file, with the intention to write\n",
    "savefile = open('Stopwords.txt','w')\n",
    "\n",
    "# actually writes the information\n",
    "savefile.write(Stop_words)\n",
    "\n",
    "# It is important to remember to actually close the file, otherwise it will\n",
    "# hang for a while and could cause problems in your script\n",
    "savefile.close()"
   ]
  },
  {
   "cell_type": "code",
   "execution_count": null,
   "metadata": {
    "collapsed": true
   },
   "outputs": [],
   "source": []
  }
 ],
 "metadata": {
  "anaconda-cloud": {},
  "kernelspec": {
   "display_name": "Python [default]",
   "language": "python",
   "name": "python3"
  },
  "language_info": {
   "codemirror_mode": {
    "name": "ipython",
    "version": 3
   },
   "file_extension": ".py",
   "mimetype": "text/x-python",
   "name": "python",
   "nbconvert_exporter": "python",
   "pygments_lexer": "ipython3",
   "version": "3.5.2"
  }
 },
 "nbformat": 4,
 "nbformat_minor": 1
}
