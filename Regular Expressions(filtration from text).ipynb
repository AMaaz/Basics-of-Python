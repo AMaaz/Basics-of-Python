{
 "cells": [
  {
   "cell_type": "code",
   "execution_count": 52,
   "metadata": {
    "collapsed": false
   },
   "outputs": [],
   "source": [
    "#dentifiers:\n",
    "\n",
    "#\\d = any number\n",
    "#\\D = anything but a number\n",
    "#\\s = space\n",
    "#\\S = anything but a space\n",
    "#\\w = any letter\n",
    "#\\W = anything but a letter\n",
    "#. = any character, except for a new line\n",
    "#\\b = space around whole words\n",
    "#\\. = period. must use backslash, because . normally means any character.\n",
    "\n",
    "#Modifiers:\n",
    "\n",
    "#{1,3} = for digits, u expect 1-3 counts of digits, or \"places\"\n",
    "#+ = match 1 or more\n",
    "#? = match 0 or 1 repetitions.\n",
    "#* = match 0 or MORE repetitions\n",
    "#$ = matches at the end of string\n",
    "#^ = matches start of a string\n",
    "#| = matches either/or. Example x|y = will match either x or y\n",
    "#[] = range, or \"variance\"\n",
    "#{x} = expect to see this amount of the preceding code.\n",
    "#{x,y} = expect to see this x-y amounts of the precedng code\n",
    "#White Space Charts:\n",
    "\n",
    "#\\n = new line\n",
    "#\\s = space\n",
    "#\\t = tab\n",
    "#\\e = escape\n",
    "#\\f = form feed\n",
    "#\\r = carriage return\n",
    "#Characters to REMEMBER TO ESCAPE IF USED!\n",
    "\n",
    "#. + * ? [ ] $ ^ ( ) { } | \\\n",
    "#Brackets:\n",
    "\n",
    "#[] = quant[ia]tative = will find either quantitative, or quantatative.\n",
    "#[a-z] = return any lowercase letter a-z\n",
    "#[1-5a-qA-Z] = return all numbers 1-5, lowercase letters a-q and uppercase A-Z"
   ]
  },
  {
   "cell_type": "code",
   "execution_count": 53,
   "metadata": {
    "collapsed": false
   },
   "outputs": [
    {
     "name": "stdout",
     "output_type": "stream",
     "text": [
      "['23', '27', '77', '42', '38']\n",
      "['Maaz', 'John', 'Edward', 'Ilia', 'Dima']\n"
     ]
    }
   ],
   "source": [
    "import re\n",
    "\n",
    "text = '''\n",
    "Maaz is 23 years old, and John is 27 years old.\n",
    "Edward is 77 years old, Ilia is 42, and Dima is 38. \n",
    "'''\n",
    "#[d{1,2} mean length of digits shouold be 2 (10, 23 etc) but not (100, 243 etc)]\n",
    "ages = re.findall(r'\\d{1,2}',text) \n",
    "\n",
    "names = re.findall(r'[A-Z][a-z]*',text)\n",
    "\n",
    "print(ages)\n",
    "print(names)"
   ]
  },
  {
   "cell_type": "code",
   "execution_count": 54,
   "metadata": {
    "collapsed": false
   },
   "outputs": [
    {
     "name": "stdout",
     "output_type": "stream",
     "text": [
      "['Maaz']\n"
     ]
    }
   ],
   "source": [
    "txt='''\n",
    "Maaz is a student studying mathematics.\n",
    "'''\n",
    "#we want to find only letter 'Maaz'\n",
    "name=re.findall(r'[A-Z][a-z]*',txt)\n",
    "print(name)"
   ]
  },
  {
   "cell_type": "code",
   "execution_count": 55,
   "metadata": {
    "collapsed": false
   },
   "outputs": [
    {
     "name": "stdout",
     "output_type": "stream",
     "text": [
      "['Mathematics']\n"
     ]
    }
   ],
   "source": [
    "txt='''\n",
    "maaz is a student studying Mathematics.\n",
    "'''\n",
    "#we want to find only letter 'mathematics'\n",
    "name=re.findall(r'[A-Z][a-z]*',txt)\n",
    "print(name)"
   ]
  },
  {
   "cell_type": "code",
   "execution_count": 56,
   "metadata": {
    "collapsed": false
   },
   "outputs": [
    {
     "name": "stdout",
     "output_type": "stream",
     "text": [
      "{'Dima': '38', 'Ilia': '42', 'John': '27', 'Maaz': '23', 'Edward': '77'}\n"
     ]
    }
   ],
   "source": [
    "#Make a dictionary\n",
    "count=0\n",
    "dictionary={}\n",
    "for words in names:\n",
    "    dictionary[words]=ages[count]\n",
    "    count+=1\n",
    "print(dictionary)"
   ]
  },
  {
   "cell_type": "code",
   "execution_count": null,
   "metadata": {
    "collapsed": true
   },
   "outputs": [],
   "source": []
  }
 ],
 "metadata": {
  "kernelspec": {
   "display_name": "Python [default]",
   "language": "python",
   "name": "python3"
  },
  "language_info": {
   "codemirror_mode": {
    "name": "ipython",
    "version": 3
   },
   "file_extension": ".py",
   "mimetype": "text/x-python",
   "name": "python",
   "nbconvert_exporter": "python",
   "pygments_lexer": "ipython3",
   "version": "3.5.2"
  }
 },
 "nbformat": 4,
 "nbformat_minor": 1
}
