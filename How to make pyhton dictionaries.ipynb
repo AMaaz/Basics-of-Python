{
 "cells": [
  {
   "cell_type": "code",
   "execution_count": 13,
   "metadata": {
    "collapsed": false
   },
   "outputs": [
    {
     "name": "stdout",
     "output_type": "stream",
     "text": [
      "{'Hamza': 21, 'Maaz': 22, 'Zaryab': 20}\n",
      "22\n",
      "{'Hamza': 21, 'Ahmad': 23, 'Maaz': 22, 'Zaryab': 20}\n",
      "{'Ahmad': 23, 'Maaz': 22, 'Zaryab': 20}\n"
     ]
    },
    {
     "ename": "KeyError",
     "evalue": "1",
     "output_type": "error",
     "traceback": [
      "\u001b[0;31m---------------------------------------------------------------------------\u001b[0m",
      "\u001b[0;31mKeyError\u001b[0m                                  Traceback (most recent call last)",
      "\u001b[0;32m<ipython-input-13-34ac328cb8bd>\u001b[0m in \u001b[0;36m<module>\u001b[0;34m()\u001b[0m\n\u001b[1;32m     13\u001b[0m \u001b[1;33m\u001b[0m\u001b[0m\n\u001b[1;32m     14\u001b[0m \u001b[1;31m#check the index in the dictionary\u001b[0m\u001b[1;33m\u001b[0m\u001b[1;33m\u001b[0m\u001b[0m\n\u001b[0;32m---> 15\u001b[0;31m \u001b[0mprint\u001b[0m\u001b[1;33m(\u001b[0m\u001b[0me\u001b[0m\u001b[1;33m[\u001b[0m\u001b[1;36m1\u001b[0m\u001b[1;33m]\u001b[0m\u001b[1;33m)\u001b[0m\u001b[1;33m\u001b[0m\u001b[0m\n\u001b[0m",
      "\u001b[0;31mKeyError\u001b[0m: 1"
     ]
    }
   ],
   "source": [
    "#Create dictionary\n",
    "# it is the from of sets but not lists\n",
    "e={'Maaz':22, 'Hamza': 21, 'Zaryab': 20}\n",
    "print(e)\n",
    "print(e['Maaz'])\n",
    "\n",
    "#Add something in the dictionary\n",
    "e['Ahmad']=23\n",
    "print(e)\n",
    "\n",
    "#Remove from the dictionary\n",
    "del e['Hamza']\n",
    "print(e)\n",
    "\n",
    "#check the index in the dictionary\n",
    "print(e[1])"
   ]
  },
  {
   "cell_type": "code",
   "execution_count": 14,
   "metadata": {
    "collapsed": false
   },
   "outputs": [
    {
     "name": "stdout",
     "output_type": "stream",
     "text": [
      "{'Hamza': 21, 'Maaz': [23, 'alcrfcm@gmail.com', 'Msc'], 'Zaryab': [22, 'zaryabbb@gmail.com', 'Bsc']}\n"
     ]
    }
   ],
   "source": [
    "e={'Maaz':[23,'alcrfcm@gmail.com','Msc'], 'Hamza': 21, 'Zaryab': [22,'zaryabbb@gmail.com','Bsc']}\n",
    "print(e)"
   ]
  },
  {
   "cell_type": "code",
   "execution_count": 17,
   "metadata": {
    "collapsed": false
   },
   "outputs": [
    {
     "name": "stdout",
     "output_type": "stream",
     "text": [
      "23\n",
      "alcrfcm@gmail.com\n",
      "Msc\n"
     ]
    }
   ],
   "source": [
    "print(e['Maaz'][0])\n",
    "print(e['Maaz'][1])\n",
    "print(e['Maaz'][2])"
   ]
  },
  {
   "cell_type": "code",
   "execution_count": 20,
   "metadata": {
    "collapsed": false
   },
   "outputs": [
    {
     "name": "stdout",
     "output_type": "stream",
     "text": [
      "21\n"
     ]
    }
   ],
   "source": [
    "print(e['Hamza'])"
   ]
  },
  {
   "cell_type": "code",
   "execution_count": 23,
   "metadata": {
    "collapsed": false
   },
   "outputs": [
    {
     "name": "stdout",
     "output_type": "stream",
     "text": [
      "22\n",
      "Msc\n",
      "alcrfcm@gmail.com\n"
     ]
    }
   ],
   "source": [
    "print(e['Zaryab'][0])\n",
    "print(e['Maaz'][2])\n",
    "print(e['Maaz'][1])"
   ]
  },
  {
   "cell_type": "code",
   "execution_count": null,
   "metadata": {
    "collapsed": true
   },
   "outputs": [],
   "source": []
  }
 ],
 "metadata": {
  "anaconda-cloud": {},
  "kernelspec": {
   "display_name": "Python [conda root]",
   "language": "python",
   "name": "conda-root-py"
  },
  "language_info": {
   "codemirror_mode": {
    "name": "ipython",
    "version": 3
   },
   "file_extension": ".py",
   "mimetype": "text/x-python",
   "name": "python",
   "nbconvert_exporter": "python",
   "pygments_lexer": "ipython3",
   "version": "3.5.2"
  }
 },
 "nbformat": 4,
 "nbformat_minor": 1
}
