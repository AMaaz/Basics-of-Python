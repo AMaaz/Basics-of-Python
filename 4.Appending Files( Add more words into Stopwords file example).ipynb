{
 "cells": [
  {
   "cell_type": "code",
   "execution_count": 33,
   "metadata": {
    "collapsed": false
   },
   "outputs": [
    {
     "name": "stdout",
     "output_type": "stream",
     "text": [
      "a about above after again against all am an and any are aren't as at be\n"
     ]
    }
   ],
   "source": [
    "Add_stopwords=\"a about above after again against all am an and any are aren\\'t as at be\"\n",
    "print(Add_stopwords)"
   ]
  },
  {
   "cell_type": "code",
   "execution_count": 34,
   "metadata": {
    "collapsed": false
   },
   "outputs": [
    {
     "name": "stdout",
     "output_type": "stream",
     "text": [
      "['a', 'about', 'above', 'after', 'again', 'against', 'all', 'am', 'an', 'and', 'any', 'are', \"aren't\", 'as', 'at', 'be']\n"
     ]
    }
   ],
   "source": [
    "#Convert one string into list\n",
    "New=Add_stopwords.lower().split()\n",
    "print(New)"
   ]
  },
  {
   "cell_type": "code",
   "execution_count": 35,
   "metadata": {
    "collapsed": false
   },
   "outputs": [
    {
     "name": "stdout",
     "output_type": "stream",
     "text": [
      "a\n",
      "about\n",
      "above\n",
      "after\n",
      "again\n",
      "against\n",
      "all\n",
      "am\n",
      "an\n",
      "and\n",
      "any\n",
      "are\n",
      "aren't\n",
      "as\n",
      "at\n",
      "be\n"
     ]
    }
   ],
   "source": [
    "#Convert list into string\n",
    "Ad_stopwords='\\n'.join(New)\n",
    "print(Ad_stopwords)"
   ]
  },
  {
   "cell_type": "code",
   "execution_count": 36,
   "metadata": {
    "collapsed": true
   },
   "outputs": [],
   "source": [
    "#open previously save file with name 'Stopwords'\n",
    "savefile=open('Stopwords.txt', 'a') #[ a mean append]\n",
    "#Append new stopswords with .write command\n",
    "savefile.write(Ad_stopwords)\n",
    "savefile.close()"
   ]
  },
  {
   "cell_type": "code",
   "execution_count": null,
   "metadata": {
    "collapsed": true
   },
   "outputs": [],
   "source": []
  }
 ],
 "metadata": {
  "anaconda-cloud": {},
  "kernelspec": {
   "display_name": "Python [default]",
   "language": "python",
   "name": "python3"
  },
  "language_info": {
   "codemirror_mode": {
    "name": "ipython",
    "version": 3
   },
   "file_extension": ".py",
   "mimetype": "text/x-python",
   "name": "python",
   "nbconvert_exporter": "python",
   "pygments_lexer": "ipython3",
   "version": "3.5.2"
  }
 },
 "nbformat": 4,
 "nbformat_minor": 1
}
