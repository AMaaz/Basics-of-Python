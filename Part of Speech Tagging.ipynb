{
 "cells": [
  {
   "cell_type": "code",
   "execution_count": 38,
   "metadata": {
    "collapsed": true
   },
   "outputs": [],
   "source": [
    "import nltk"
   ]
  },
  {
   "cell_type": "code",
   "execution_count": 41,
   "metadata": {
    "collapsed": false
   },
   "outputs": [
    {
     "name": "stdout",
     "output_type": "stream",
     "text": [
      "['robert', 'deniro', 'plays', 'the', 'most', 'unbelievably', 'intelligent', 'illiterate', 'of', 'all', 'time.', 'this', 'movie', 'is', 'so', 'wasteful', 'of', 'talent,', 'it', 'is', 'truly', 'disgusting.', 'the', 'script', 'is', 'unbelievable.', 'avoid', 'this', 'movie.']\n"
     ]
    }
   ],
   "source": [
    "exam='Robert DeNiro plays the most unbelievably intelligent illiterate of all time. This movie is so wasteful of talent, it is truly disgusting. The script is unbelievable. Avoid this movie.'\n",
    "example=exam.lower().split(\" \")\n",
    "print(example)"
   ]
  },
  {
   "cell_type": "code",
   "execution_count": 40,
   "metadata": {
    "collapsed": false
   },
   "outputs": [
    {
     "name": "stdout",
     "output_type": "stream",
     "text": [
      "[('R', 'NNP'), ('o', 'NN'), ('b', 'NN'), ('e', 'NN'), ('r', 'NN'), ('t', 'NN'), (' ', 'NNP'), ('D', 'NNP'), ('e', 'VBP'), ('N', 'NNP'), ('i', 'NN'), ('r', 'VBP'), ('o', 'JJ'), (' ', 'NNP'), ('p', 'NN'), ('l', 'NN'), ('a', 'DT'), ('y', 'NN'), ('s', 'NN'), (' ', 'NNP'), ('t', 'NN'), ('h', 'NN'), ('e', 'NN'), (' ', 'NNP'), ('m', 'NN'), ('o', 'NN'), ('s', 'NN'), ('t', 'NN'), (' ', 'NNP'), ('u', 'NN'), ('n', 'NN'), ('b', 'NN'), ('e', 'NN'), ('l', 'NN'), ('i', 'NN'), ('e', 'VBP'), ('v', 'IN'), ('a', 'DT'), ('b', 'NN'), ('l', 'NN'), ('y', 'NN'), (' ', 'NN'), ('i', 'NN'), ('n', 'VBP'), ('t', 'NN'), ('e', 'NN'), ('l', 'NN'), ('l', 'NN'), ('i', 'NN'), ('g', 'VBP'), ('e', 'NN'), ('n', 'JJ'), ('t', 'NN'), (' ', 'NN'), ('i', 'NN'), ('l', 'VBP'), ('l', 'NN'), ('i', 'NN'), ('t', 'VBP'), ('e', 'NN'), ('r', 'NN'), ('a', 'DT'), ('t', 'NN'), ('e', 'NN'), (' ', 'NNP'), ('o', 'VBZ'), ('f', 'JJ'), (' ', 'IN'), ('a', 'DT'), ('l', 'NN'), ('l', 'NN'), (' ', 'NNP'), ('t', 'NN'), ('i', 'NN'), ('m', 'VBP'), ('e', 'NN')]\n",
      "[(' ', 'JJ'), ('T', 'NNP'), ('h', 'NN'), ('i', 'NN'), ('s', 'VBP'), (' ', 'NNP'), ('m', 'NN'), ('o', 'NN'), ('v', 'NN'), ('i', 'NN'), ('e', 'VBP'), (' ', 'NN'), ('i', 'NN'), ('s', 'VBP'), (' ', 'JJ'), ('s', 'NN'), ('o', 'NN'), (' ', 'NNP'), ('w', 'VBZ'), ('a', 'DT'), ('s', 'JJ'), ('t', 'NN'), ('e', 'NN'), ('f', 'NN'), ('u', 'JJ'), ('l', 'NN'), (' ', 'NNP'), ('o', 'VBZ'), ('f', 'JJ'), (' ', 'NNP'), ('t', 'NN'), ('a', 'DT'), ('l', 'NN'), ('e', 'NN'), ('n', 'JJ'), ('t', 'NN'), (',', ','), (' ', 'VBP'), ('i', 'JJ'), ('t', 'VBP'), (' ', 'NN'), ('i', 'NN'), ('s', 'VBP'), (' ', 'NN'), ('t', 'NN'), ('r', 'NN'), ('u', 'JJ'), ('l', 'NN'), ('y', 'NN'), (' ', 'NNP'), ('d', 'NN'), ('i', 'NN'), ('s', 'VBP'), ('g', 'NN'), ('u', 'JJ'), ('s', 'NN'), ('t', 'NN'), ('i', 'NN'), ('n', 'VBP'), ('g', 'NN')]\n",
      "[(' ', 'JJ'), ('T', 'NNP'), ('h', 'NN'), ('e', 'NN'), (' ', 'NNP'), ('s', 'NN'), ('c', 'NN'), ('r', 'NN'), ('i', 'NN'), ('p', 'VBP'), ('t', 'IN'), (' ', 'NN'), ('i', 'NN'), ('s', 'VBP'), (' ', 'JJ'), ('u', 'JJ'), ('n', 'NN'), ('b', 'NN'), ('e', 'NN'), ('l', 'NN'), ('i', 'NN'), ('e', 'VBP'), ('v', 'IN'), ('a', 'DT'), ('b', 'NN'), ('l', 'NN'), ('e', 'NN')]\n",
      "[(' ', 'VB'), ('A', 'DT'), ('v', 'NN'), ('o', 'NN'), ('i', 'NN'), ('d', 'VBP'), (' ', 'JJ'), ('t', 'NN'), ('h', 'NN'), ('i', 'JJ'), ('s', 'VBP'), (' ', 'JJ'), ('m', 'NN'), ('o', 'IN'), ('v', 'NN'), ('i', 'NN'), ('e', 'VBP')]\n",
      "[]\n"
     ]
    }
   ],
   "source": [
    "def process():\n",
    "    try:\n",
    "        for words in example:\n",
    "            POS=nltk.pos_tag(words)\n",
    "            print(POS)\n",
    "    except Exception as e:\n",
    "        print(str(e))\n",
    "process()"
   ]
  },
  {
   "cell_type": "code",
   "execution_count": 23,
   "metadata": {
    "collapsed": false
   },
   "outputs": [
    {
     "ename": "SyntaxError",
     "evalue": "invalid syntax (<ipython-input-23-b3c90701109e>, line 1)",
     "output_type": "error",
     "traceback": [
      "\u001b[0;36m  File \u001b[0;32m\"<ipython-input-23-b3c90701109e>\"\u001b[0;36m, line \u001b[0;32m1\u001b[0m\n\u001b[0;31m    POS tag list:\u001b[0m\n\u001b[0m          ^\u001b[0m\n\u001b[0;31mSyntaxError\u001b[0m\u001b[0;31m:\u001b[0m invalid syntax\n"
     ]
    }
   ],
   "source": [
    "POS tag list:\n",
    "\n",
    "CC\tcoordinating conjunction\n",
    "CD\tcardinal digit\n",
    "DT\tdeterminer\n",
    "EX\texistential there (like: \"there is\" ... think of it like \"there exists\")\n",
    "FW\tforeign word\n",
    "IN\tpreposition/subordinating conjunction\n",
    "JJ\tadjective\t'big'\n",
    "JJR\tadjective, comparative\t'bigger'\n",
    "JJS\tadjective, superlative\t'biggest'\n",
    "LS\tlist marker\t1)\n",
    "MD\tmodal\tcould, will\n",
    "NN\tnoun, singular 'desk'\n",
    "NNS\tnoun plural\t'desks'\n",
    "NNP\tproper noun, singular\t'Harrison'\n",
    "NNPS\tproper noun, plural\t'Americans'\n",
    "PDT\tpredeterminer\t'all the kids'\n",
    "POS\tpossessive ending\tparent's\n",
    "PRP\tpersonal pronoun\tI, he, she\n",
    "PRP$\tpossessive pronoun\tmy, his, hers\n",
    "RB\tadverb\tvery, silently,\n",
    "RBR\tadverb, comparative\tbetter\n",
    "RBS\tadverb, superlative\tbest\n",
    "RP\tparticle\tgive up\n",
    "TO\tto\tgo 'to' the store.\n",
    "UH\tinterjection\terrrrrrrrm\n",
    "VB\tverb, base form\ttake\n",
    "VBD\tverb, past tense\ttook\n",
    "VBG\tverb, gerund/present participle\ttaking\n",
    "VBN\tverb, past participle\ttaken\n",
    "VBP\tverb, sing. present, non-3d\ttake\n",
    "VBZ\tverb, 3rd person sing. present\ttakes\n",
    "WDT\twh-determiner\twhich\n",
    "WP\twh-pronoun\twho, what\n",
    "WP$\tpossessive wh-pronoun\twhose\n",
    "WRB\twh-abverb\twhere, when"
   ]
  },
  {
   "cell_type": "code",
   "execution_count": 24,
   "metadata": {
    "collapsed": true
   },
   "outputs": [],
   "source": [
    "import nltk\n",
    "from nltk.tokenize import PunktSentenceTokenizer"
   ]
  },
  {
   "cell_type": "code",
   "execution_count": 42,
   "metadata": {
    "collapsed": false
   },
   "outputs": [
    {
     "name": "stdout",
     "output_type": "stream",
     "text": [
      "<nltk.tokenize.punkt.PunktSentenceTokenizer object at 0x000001F36C629828>\n"
     ]
    }
   ],
   "source": [
    "custom_tokenizer = PunktSentenceTokenizer(exam)\n",
    "print(custom_tokenizer)"
   ]
  },
  {
   "cell_type": "code",
   "execution_count": 43,
   "metadata": {
    "collapsed": false
   },
   "outputs": [
    {
     "name": "stdout",
     "output_type": "stream",
     "text": [
      "['Robert DeNiro plays the most unbelievably intelligent illiterate of all time.', 'This movie is so wasteful of talent, it is truly disgusting.', 'The script is unbelievable.', 'Avoid this movie.']\n"
     ]
    }
   ],
   "source": [
    "tokens = custom_tokenizer.tokenize(exam)\n",
    "print(tokens)"
   ]
  },
  {
   "cell_type": "code",
   "execution_count": 46,
   "metadata": {
    "collapsed": false
   },
   "outputs": [
    {
     "name": "stdout",
     "output_type": "stream",
     "text": [
      "[('Robert', 'NNP'), ('DeNiro', 'NNP'), ('plays', 'VBZ'), ('the', 'DT'), ('most', 'RBS'), ('unbelievably', 'JJ'), ('intelligent', 'JJ'), ('illiterate', 'NN'), ('of', 'IN'), ('all', 'DT'), ('time', 'NN'), ('.', '.')]\n",
      "[('This', 'DT'), ('movie', 'NN'), ('is', 'VBZ'), ('so', 'RB'), ('wasteful', 'JJ'), ('of', 'IN'), ('talent', 'NN'), (',', ','), ('it', 'PRP'), ('is', 'VBZ'), ('truly', 'RB'), ('disgusting', 'VBG'), ('.', '.')]\n",
      "[('The', 'DT'), ('script', 'NN'), ('is', 'VBZ'), ('unbelievable', 'JJ'), ('.', '.')]\n",
      "[('Avoid', 'VB'), ('this', 'DT'), ('movie', 'NN'), ('.', '.')]\n"
     ]
    }
   ],
   "source": [
    "def process():\n",
    "    try:\n",
    "        for word in tokens:\n",
    "            words = nltk.word_tokenize(word)\n",
    "            POS = nltk.pos_tag(words)\n",
    "            print(POS)\n",
    "\n",
    "    except Exception as e:\n",
    "        print(str(e))\n",
    "        \n",
    "process()"
   ]
  },
  {
   "cell_type": "code",
   "execution_count": null,
   "metadata": {
    "collapsed": true
   },
   "outputs": [],
   "source": []
  }
 ],
 "metadata": {
  "anaconda-cloud": {},
  "kernelspec": {
   "display_name": "Python [default]",
   "language": "python",
   "name": "python3"
  },
  "language_info": {
   "codemirror_mode": {
    "name": "ipython",
    "version": 3
   },
   "file_extension": ".py",
   "mimetype": "text/x-python",
   "name": "python",
   "nbconvert_exporter": "python",
   "pygments_lexer": "ipython3",
   "version": "3.5.2"
  }
 },
 "nbformat": 4,
 "nbformat_minor": 1
}
